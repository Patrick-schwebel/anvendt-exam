{
 "cells": [
  {
   "cell_type": "markdown",
   "metadata": {},
   "source": [
    "Data Loading"
   ]
  },
  {
   "cell_type": "code",
   "execution_count": 1,
   "metadata": {},
   "outputs": [
    {
     "name": "stderr",
     "output_type": "stream",
     "text": [
      "/var/folders/jw/klwn3fn938q7l19xfc5b_2l40000gn/T/ipykernel_16476/266685231.py:1: DeprecationWarning: \n",
      "Pyarrow will become a required dependency of pandas in the next major release of pandas (pandas 3.0),\n",
      "(to allow more performant data types, such as the Arrow string type, and better interoperability with other libraries)\n",
      "but was not found to be installed on your system.\n",
      "If this would cause problems for you,\n",
      "please provide us feedback at https://github.com/pandas-dev/pandas/issues/54466\n",
      "        \n",
      "  import pandas as pd\n"
     ]
    }
   ],
   "source": [
    "import pandas as pd\n",
    "\n",
    "# Paths to your training data files\n",
    "amazon_fashion_path = '/Users/allanjensen/Downloads/AMAZON_FASHION.json'\n",
    "all_beauty_path = '/Users/allanjensen/Downloads/All_Beauty.json'\n",
    "clothing_shoes_jewelry_path = '/Users/allanjensen/Downloads/Clothing_Shoes_and_Jewelry.json'\n",
    "\n",
    "\n",
    "# Number of rows to read from each file\n",
    "n_rows = 300000\n",
    "\n",
    "# Load a subset of each training dataset\n",
    "amazon_fashion = pd.read_json(amazon_fashion_path, lines=True, nrows=n_rows)\n",
    "all_beauty = pd.read_json(all_beauty_path, lines=True, nrows=n_rows)\n",
    "clothing_shoes_jewelry = pd.read_json(clothing_shoes_jewelry_path, lines=True, nrows=n_rows)\n",
    "\n",
    "# Concatenate the datasets\n",
    "training_data = pd.concat([amazon_fashion, all_beauty, clothing_shoes_jewelry])\n"
   ]
  },
  {
   "cell_type": "markdown",
   "metadata": {},
   "source": [
    "text preprocess "
   ]
  },
  {
   "cell_type": "code",
   "execution_count": 2,
   "metadata": {},
   "outputs": [
    {
     "name": "stderr",
     "output_type": "stream",
     "text": [
      "[nltk_data] Downloading package punkt to\n",
      "[nltk_data]     /Users/allanjensen/nltk_data...\n",
      "[nltk_data]   Package punkt is already up-to-date!\n",
      "[nltk_data] Downloading package stopwords to\n",
      "[nltk_data]     /Users/allanjensen/nltk_data...\n",
      "[nltk_data]   Package stopwords is already up-to-date!\n",
      "[nltk_data] Downloading package wordnet to\n",
      "[nltk_data]     /Users/allanjensen/nltk_data...\n",
      "[nltk_data]   Package wordnet is already up-to-date!\n",
      "[nltk_data] Downloading package averaged_perceptron_tagger to\n",
      "[nltk_data]     /Users/allanjensen/nltk_data...\n",
      "[nltk_data]   Package averaged_perceptron_tagger is already up-to-\n",
      "[nltk_data]       date!\n"
     ]
    }
   ],
   "source": [
    "import nltk\n",
    "from nltk.corpus import stopwords, wordnet\n",
    "from nltk.stem import WordNetLemmatizer\n",
    "from nltk.tokenize import word_tokenize\n",
    "import re\n",
    "\n",
    "nltk.download('punkt')\n",
    "nltk.download('stopwords')\n",
    "nltk.download('wordnet')\n",
    "nltk.download('averaged_perceptron_tagger')\n",
    "\n",
    "stop_words = set(stopwords.words('english'))\n",
    "lemmatizer = WordNetLemmatizer()\n",
    "\n",
    "def get_wordnet_pos(word):\n",
    "    tag = nltk.pos_tag([word])[0][1][0].upper()\n",
    "    tag_dict = {\"J\": wordnet.ADJ, \"N\": wordnet.NOUN, \"V\": wordnet.VERB, \"R\": wordnet.ADV}\n",
    "    return tag_dict.get(tag, wordnet.NOUN)\n",
    "\n",
    "def preprocess_text(text):\n",
    "    if isinstance(text, str):\n",
    "        text = text.lower()\n",
    "        text = re.sub(r'[^a-zA-Z0-9\\s]', '', text)\n",
    "        tokens = word_tokenize(text)\n",
    "        lemmatized_text = ' '.join([lemmatizer.lemmatize(word, get_wordnet_pos(word)) for word in tokens if word not in stop_words])\n",
    "        return lemmatized_text\n",
    "    else:\n",
    "        return \"\"\n",
    "\n",
    "# Apply the preprocessing to your training data\n",
    "# Ensure that 'training_data' is defined and has a column 'reviewText'\n",
    "training_data['processed_reviewText'] = training_data['reviewText'].apply(preprocess_text)\n",
    "training_data = training_data[training_data['processed_reviewText'] != \"\"]\n"
   ]
  },
  {
   "cell_type": "markdown",
   "metadata": {},
   "source": [
    "Sentiment Analysis and Feature Extraction"
   ]
  },
  {
   "cell_type": "code",
   "execution_count": 3,
   "metadata": {},
   "outputs": [
    {
     "name": "stderr",
     "output_type": "stream",
     "text": [
      "[nltk_data] Downloading package vader_lexicon to\n",
      "[nltk_data]     /Users/allanjensen/nltk_data...\n",
      "[nltk_data]   Package vader_lexicon is already up-to-date!\n"
     ]
    }
   ],
   "source": [
    "from nltk import download\n",
    "from nltk.sentiment import SentimentIntensityAnalyzer\n",
    "from sklearn.feature_extraction.text import TfidfVectorizer\n",
    "from scipy.sparse import hstack\n",
    "\n",
    "# Download the VADER lexicon\n",
    "download('vader_lexicon')\n",
    "\n",
    "analyzer = SentimentIntensityAnalyzer()\n",
    "training_data['sentiment_score'] = training_data['processed_reviewText'].apply(lambda x: analyzer.polarity_scores(x)['compound'])\n",
    "\n",
    "tfidf_vectorizer = TfidfVectorizer(max_features=5000, stop_words='english')\n",
    "tfidf_features = tfidf_vectorizer.fit_transform(training_data['processed_reviewText'])\n",
    "\n",
    "combined_features = hstack([tfidf_features, training_data['sentiment_score'].values.reshape(-1, 1)])\n"
   ]
  },
  {
   "cell_type": "markdown",
   "metadata": {},
   "source": [
    "Labels and Data Splitting"
   ]
  },
  {
   "cell_type": "code",
   "execution_count": 4,
   "metadata": {},
   "outputs": [],
   "source": [
    "from sklearn.model_selection import train_test_split\n",
    "\n",
    "def cat_y(overall_rating):\n",
    "    if overall_rating in [1, 2]:\n",
    "        return 'low'\n",
    "    elif overall_rating == 3:\n",
    "        return 'neutral'\n",
    "    elif overall_rating in [4, 5]:\n",
    "        return 'high'\n",
    "\n",
    "training_data['category'] = training_data['overall'].apply(cat_y)\n",
    "X_train, X_val, y_train, y_val = train_test_split(combined_features, training_data['category'], test_size=0.2, random_state=42)\n"
   ]
  },
  {
   "cell_type": "markdown",
   "metadata": {},
   "source": [
    "dt train og gridsearch "
   ]
  },
  {
   "cell_type": "code",
   "execution_count": 5,
   "metadata": {},
   "outputs": [],
   "source": [
    "from sklearn.tree import DecisionTreeClassifier\n",
    "from sklearn.model_selection import GridSearchCV\n",
    "\n",
    "param_grid_decision_tree = {\n",
    "    'max_depth': [None, 10, 20], \n",
    "    'min_samples_split': [2, 5, 10], \n",
    "    'min_samples_leaf': [1, 2, 4]\n",
    "}\n",
    "\n",
    "grid_search = GridSearchCV(DecisionTreeClassifier(random_state=42), param_grid_decision_tree, cv=5, scoring='accuracy')\n",
    "grid_search.fit(X_train, y_train)\n",
    "decision_tree_model = grid_search.best_estimator_\n"
   ]
  },
  {
   "cell_type": "markdown",
   "metadata": {},
   "source": [
    "eval på det "
   ]
  },
  {
   "cell_type": "code",
   "execution_count": 6,
   "metadata": {},
   "outputs": [
    {
     "name": "stdout",
     "output_type": "stream",
     "text": [
      "              precision    recall  f1-score   support\n",
      "\n",
      "        high       0.85      0.96      0.90    138990\n",
      "         low       0.62      0.51      0.56     24887\n",
      "     neutral       0.42      0.07      0.13     15743\n",
      "\n",
      "    accuracy                           0.82    179620\n",
      "   macro avg       0.63      0.52      0.53    179620\n",
      "weighted avg       0.78      0.82      0.79    179620\n",
      "\n"
     ]
    }
   ],
   "source": [
    "from sklearn.metrics import classification_report\n",
    "\n",
    "y_val_pred = decision_tree_model.predict(X_val)\n",
    "print(classification_report(y_val, y_val_pred))\n"
   ]
  },
  {
   "cell_type": "markdown",
   "metadata": {},
   "source": [
    "overfit?"
   ]
  },
  {
   "cell_type": "code",
   "execution_count": 7,
   "metadata": {},
   "outputs": [
    {
     "data": {
      "image/png": "[encoded data removed]",
      "text/plain": [
       "<Figure size 1000x600 with 1 Axes>"
      ]
     },
     "metadata": {},
     "output_type": "display_data"
    }
   ],
   "source": [
    "import matplotlib.pyplot as plt\n",
    "from sklearn.metrics import accuracy_score\n",
    "\n",
    "# Range of tree depths to evaluate\n",
    "max_depths = range(1, 21)  # You can adjust the range as needed\n",
    "\n",
    "train_accuracies = []\n",
    "val_accuracies = []\n",
    "\n",
    "for depth in max_depths:\n",
    "    model = DecisionTreeClassifier(max_depth=depth, random_state=42)\n",
    "    model.fit(X_train, y_train)\n",
    "    \n",
    "    # Training accuracy\n",
    "    train_preds = model.predict(X_train)\n",
    "    train_accuracy = accuracy_score(y_train, train_preds)\n",
    "    train_accuracies.append(train_accuracy)\n",
    "    \n",
    "    # Validation accuracy\n",
    "    val_preds = model.predict(X_val)\n",
    "    val_accuracy = accuracy_score(y_val, val_preds)\n",
    "    val_accuracies.append(val_accuracy)\n",
    "\n",
    "# Plotting the accuracies\n",
    "plt.figure(figsize=(10, 6))\n",
    "plt.plot(max_depths, train_accuracies, label='Training Accuracy')\n",
    "plt.plot(max_depths, val_accuracies, label='Validation Accuracy')\n",
    "plt.title('Decision Tree Training vs Validation Accuracy by Tree Depth')\n",
    "plt.xlabel('Max Tree Depth')\n",
    "plt.ylabel('Accuracy')\n",
    "plt.legend()\n",
    "plt.xticks(max_depths)\n",
    "plt.show()\n"
   ]
  },
  {
   "cell_type": "markdown",
   "metadata": {},
   "source": [
    "chat siger: \n",
    "This code chunk will create a plot showing how the accuracy of the Decision Tree model varies with different maximum depths on both the training and validation sets. Typically, if the model overfits, you will see the training accuracy continue to increase with depth, while the validation accuracy may plateau or even decrease, indicating that the model is fitting too closely to the training data and not generalizing well to new data."
   ]
  },
  {
   "cell_type": "markdown",
   "metadata": {},
   "source": [
    "final test med lucxury beauty (husk at rette nrows)"
   ]
  },
  {
   "cell_type": "code",
   "execution_count": 8,
   "metadata": {},
   "outputs": [
    {
     "name": "stdout",
     "output_type": "stream",
     "text": [
      "              precision    recall  f1-score   support\n",
      "\n",
      "        high       0.84      0.97      0.90     27803\n",
      "         low       0.42      0.30      0.35      2591\n",
      "     neutral       0.46      0.05      0.09      3884\n",
      "\n",
      "    accuracy                           0.82     34278\n",
      "   macro avg       0.57      0.44      0.45     34278\n",
      "weighted avg       0.77      0.82      0.77     34278\n",
      "\n"
     ]
    }
   ],
   "source": [
    "import pandas as pd\n",
    "from sklearn.feature_extraction.text import TfidfVectorizer\n",
    "from sklearn.metrics import classification_report\n",
    "from scipy.sparse import hstack\n",
    "from nltk.sentiment import SentimentIntensityAnalyzer\n",
    "\n",
    "# Assuming your preprocessing and sentiment analysis functions are already defined\n",
    "# preprocess_text(text)\n",
    "# cat_y(rating)\n",
    "\n",
    "\n",
    "# Load test dataset\n",
    "test_data = pd.read_json('/Users/allanjensen/Downloads/Luxury_Beauty_5.json', lines=True)\n",
    "\n",
    "# Preprocess the text data\n",
    "test_data['processed_reviewText'] = test_data['reviewText'].apply(preprocess_text)\n",
    "\n",
    "# Sentiment analysis\n",
    "analyzer = SentimentIntensityAnalyzer()\n",
    "test_data['sentiment_score'] = test_data['processed_reviewText'].apply(lambda x: analyzer.polarity_scores(x)['compound'])\n",
    "\n",
    "# Apply the same TF-IDF vectorizer to the test data\n",
    "# Assuming tfidf_vectorizer is already fitted to the training data\n",
    "tfidf_features_test = tfidf_vectorizer.transform(test_data['processed_reviewText'])\n",
    "\n",
    "# Combine TF-IDF features with sentiment scores\n",
    "combined_features_test = hstack([tfidf_features_test, test_data['sentiment_score'].values.reshape(-1, 1)])\n",
    "\n",
    "# Categorize the ratings in the test data\n",
    "test_data['category'] = test_data['overall'].apply(cat_y)\n",
    "\n",
    "# Predict with the trained Decision Tree model\n",
    "# Ensure decision_tree_model is your trained Decision Tree model\n",
    "test_predictions = decision_tree_model.predict(combined_features_test)\n",
    "\n",
    "# Evaluate the model's performance (optional)\n",
    "print(classification_report(test_data['category'], test_predictions))\n"
   ]
  }
 ],
 "metadata": {
  "kernelspec": {
   "display_name": "Python 3",
   "language": "python",
   "name": "python3"
  },
  "language_info": {
   "codemirror_mode": {
    "name": "ipython",
    "version": 3
   },
   "file_extension": ".py",
   "mimetype": "text/x-python",
   "name": "python",
   "nbconvert_exporter": "python",
   "pygments_lexer": "ipython3",
   "version": "3.12.1"
  }
 },
 "nbformat": 4,
 "nbformat_minor": 2
}
