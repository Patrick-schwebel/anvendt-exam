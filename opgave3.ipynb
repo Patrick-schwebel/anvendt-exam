{
 "cells": [
  {
   "cell_type": "markdown",
   "metadata": {},
   "source": [
    "Baseline Model for Review Rating Classification (opgave 3)\n",
    "\n",
    "på review eller summary?\n",
    "\n",
    "tænker umiddelbart vi kan prøve med de her tre: log regression model, naive bayes og support vector machine "
   ]
  },
  {
   "cell_type": "code",
   "execution_count": null,
   "metadata": {},
   "outputs": [],
   "source": [
    "import pandas as pd\n",
    "from sklearn.model_selection import train_test_split\n",
    "from sklearn.feature_extraction.text import TfidfVectorizer\n",
    "from sklearn.linear_model import LogisticRegression\n",
    "from sklearn.metrics import classification_report, accuracy_score\n",
    "\n",
    "# Load your dataset\n",
    "file_path = 'hvilket data set.csv'\n",
    "df = pd.read_csv(file_path)\n",
    "\n",
    "# Preprocess your data (basic example)\n",
    "# Replace 'reviewText' and 'rating' with your actual column names\n",
    "df['reviewText'] = df['reviewText'].str.lower() # Lowercasing\n",
    "df['reviewText'] = df['reviewText'].str.replace('[^\\w\\s]', '') # Remove punctuation\n",
    "\n",
    "# Splitting the dataset into training, validation, and test sets\n",
    "train, test = train_test_split(df, test_size=0.2, random_state=42)\n",
    "train, val = train_test_split(train, test_size=0.25, random_state=42) # 0.25 x 0.8 = 0.2\n",
    "\n",
    "# Vectorization\n",
    "vectorizer = TfidfVectorizer(stop_words='english')\n",
    "X_train = vectorizer.fit_transform(train['reviewText'])\n",
    "X_val = vectorizer.transform(val['reviewText'])\n",
    "X_test = vectorizer.transform(test['reviewText'])\n",
    "\n",
    "y_train = train['rating']\n",
    "y_val = val['rating']\n",
    "y_test = test['rating']\n",
    "\n",
    "# Train the Logistic Regression model\n",
    "model = LogisticRegression(random_state=42)\n",
    "model.fit(X_train, y_train)\n",
    "\n",
    "# Evaluate the model\n",
    "def evaluate_model(model, X, y, dataset_name):\n",
    "    predictions = model.predict(X)\n",
    "    accuracy = accuracy_score(y, predictions)\n",
    "    print(f\"Accuracy on {dataset_name} set: {accuracy * 100:.2f}%\")\n",
    "    print(classification_report(y, predictions))\n",
    "\n",
    "evaluate_model(model, X_train, y_train, 'training')\n",
    "evaluate_model(model, X_val, y_val, 'validation')\n",
    "evaluate_model(model, X_test, y_test, 'test')\n",
    "\n"
   ]
  },
  {
   "cell_type": "markdown",
   "metadata": {},
   "source": []
  },
  {
   "cell_type": "code",
   "execution_count": null,
   "metadata": {},
   "outputs": [],
   "source": [
    "from sklearn.naive_bayes import MultinomialNB\n",
    "from sklearn.svm import SVC\n",
    "\n",
    "# Train the Logistic Regression model\n",
    "lr_model = LogisticRegression(random_state=42)\n",
    "lr_model.fit(X_train, y_train)\n",
    "evaluate_model(lr_model, X_test, y_test, 'Logistic Regression')\n",
    "\n",
    "# Train the Naive Bayes model\n",
    "nb_model = MultinomialNB()\n",
    "nb_model.fit(X_train, y_train)\n",
    "evaluate_model(nb_model, X_test, y_test, 'Naive Bayes')\n",
    "\n",
    "# Train the SVM model\n",
    "svm_model = SVC(random_state=42)\n",
    "svm_model.fit(X_train, y_train)\n",
    "evaluate_model(svm_model, X_test, y_test, 'SVM')\n",
    "\n",
    "# Evaluate the model\n",
    "def evaluate_model(model, X, y, dataset_name):\n",
    "    predictions = model.predict(X)\n",
    "    accuracy = accuracy_score(y, predictions)\n",
    "    print(f\"Accuracy on {dataset_name} set: {accuracy * 100:.2f}%\")\n",
    "    print(classification_report(y, predictions))\n",
    "\n",
    "evaluate_model(model, X_train, y_train, 'training')\n",
    "evaluate_model(model, X_val, y_val, 'validation')\n",
    "evaluate_model(model, X_test, y_test, 'test')\n"
   ]
  }
 ],
 "metadata": {
  "language_info": {
   "name": "python"
  }
 },
 "nbformat": 4,
 "nbformat_minor": 2
}
