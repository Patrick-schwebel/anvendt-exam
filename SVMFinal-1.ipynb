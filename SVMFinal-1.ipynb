{
 "cells": [
  {
   "cell_type": "markdown",
   "metadata": {},
   "source": [
    "Support Vector machine"
   ]
  },
  {
   "cell_type": "markdown",
   "metadata": {},
   "source": [
    "Data Loading"
   ]
  },
  {
   "cell_type": "code",
   "execution_count": 12,
   "metadata": {},
   "outputs": [],
   "source": [
    "import pandas as pd\n",
    "\n",
    "# Paths to your training data files\n",
    "amazon_fashion_path = '/Users/patrickbendorffschwebel/Desktop/Anvendt-kode/anvendt-exam/mappe uden navn 2/AMAZON_FASHION.json'\n",
    "all_beauty_path = '/Users/patrickbendorffschwebel/Desktop/Anvendt-kode/anvendt-exam/mappe uden navn 2/All_Beauty.json'\n",
    "clothing_shoes_jewelry_path = '/Users/patrickbendorffschwebel/Desktop/Anvendt-kode/anvendt-exam/mappe uden navn 2/Clothing_Shoes_and_Jewelry.json'\n",
    "\n",
    "\n",
    "# Number of rows to read from each file\n",
    "n_rows = 1000\n",
    "\n",
    "# Load a subset of each training dataset\n",
    "amazon_fashion = pd.read_json(amazon_fashion_path, lines=True, nrows=n_rows)\n",
    "all_beauty = pd.read_json(all_beauty_path, lines=True, nrows=n_rows)\n",
    "clothing_shoes_jewelry = pd.read_json(clothing_shoes_jewelry_path, lines=True, nrows=n_rows)\n",
    "\n",
    "# Concatenate the datasets\n",
    "training_data = pd.concat([amazon_fashion, all_beauty, clothing_shoes_jewelry])"
   ]
  },
  {
   "cell_type": "markdown",
   "metadata": {},
   "source": [
    "Text Preprocessing "
   ]
  },
  {
   "cell_type": "code",
   "execution_count": 13,
   "metadata": {},
   "outputs": [
    {
     "name": "stderr",
     "output_type": "stream",
     "text": [
      "[nltk_data] Downloading package punkt to\n",
      "[nltk_data]     /Users/patrickbendorffschwebel/nltk_data...\n",
      "[nltk_data]   Package punkt is already up-to-date!\n",
      "[nltk_data] Downloading package stopwords to\n",
      "[nltk_data]     /Users/patrickbendorffschwebel/nltk_data...\n",
      "[nltk_data]   Package stopwords is already up-to-date!\n",
      "[nltk_data] Downloading package wordnet to\n",
      "[nltk_data]     /Users/patrickbendorffschwebel/nltk_data...\n",
      "[nltk_data]   Package wordnet is already up-to-date!\n",
      "[nltk_data] Downloading package averaged_perceptron_tagger to\n",
      "[nltk_data]     /Users/patrickbendorffschwebel/nltk_data...\n",
      "[nltk_data]   Package averaged_perceptron_tagger is already up-to-\n",
      "[nltk_data]       date!\n"
     ]
    }
   ],
   "source": [
    "import nltk\n",
    "from nltk.corpus import stopwords, wordnet\n",
    "from nltk.stem import WordNetLemmatizer\n",
    "from nltk.tokenize import word_tokenize\n",
    "import re\n",
    "\n",
    "nltk.download('punkt')\n",
    "nltk.download('stopwords')\n",
    "nltk.download('wordnet')\n",
    "nltk.download('averaged_perceptron_tagger')\n",
    "\n",
    "stop_words = set(stopwords.words('english'))\n",
    "lemmatizer = WordNetLemmatizer()\n",
    "\n",
    "def get_wordnet_pos(word):\n",
    "    tag = nltk.pos_tag([word])[0][1][0].upper()\n",
    "    tag_dict = {\"J\": wordnet.ADJ, \"N\": wordnet.NOUN, \"V\": wordnet.VERB, \"R\": wordnet.ADV}\n",
    "    return tag_dict.get(tag, wordnet.NOUN)\n",
    "\n",
    "def preprocess_text(text):\n",
    "    if isinstance(text, str):\n",
    "        text = text.lower()\n",
    "        text = re.sub(r'[^a-zA-Z0-9\\s]', '', text)\n",
    "        tokens = word_tokenize(text)\n",
    "        lemmatized_text = ' '.join([lemmatizer.lemmatize(word, get_wordnet_pos(word)) for word in tokens if word not in stop_words])\n",
    "        return lemmatized_text\n",
    "    else:\n",
    "        return \"\"\n",
    "\n",
    "# Apply the preprocessing to your training data\n",
    "training_data['processed_reviewText'] = training_data['reviewText'].apply(preprocess_text)\n",
    "training_data = training_data[training_data['processed_reviewText'] != \"\"]"
   ]
  },
  {
   "cell_type": "markdown",
   "metadata": {},
   "source": [
    "data preparation with balance"
   ]
  },
  {
   "cell_type": "code",
   "execution_count": 6,
   "metadata": {},
   "outputs": [],
   "source": [
    "from sklearn.model_selection import train_test_split\n",
    "\n",
    "# Categorizing the ratings\n",
    "def cat_y(overall_rating):\n",
    "    if overall_rating in [1, 2]:\n",
    "        return 'low'\n",
    "    elif overall_rating == 3:\n",
    "        return 'neutral'\n",
    "    elif overall_rating in [4, 5]:\n",
    "        return 'high'\n",
    "\n",
    "training_data['category'] = training_data['overall'].apply(cat_y)\n",
    "\n",
    "# Balancing the dataset\n",
    "def balance_dataset(data, target_column):\n",
    "    min_size = data[target_column].value_counts().min()\n",
    "    lst = [data[data[target_column] == category].sample(min_size, random_state=42) for category in data[target_column].unique()]\n",
    "    balanced_data = pd.concat(lst).sample(frac=1, random_state=42).reset_index(drop=True)\n",
    "    return balanced_data\n",
    "\n",
    "balanced_training_data = balance_dataset(training_data, 'category')"
   ]
  },
  {
   "cell_type": "markdown",
   "metadata": {},
   "source": [
    "data preparation wihtout balance"
   ]
  },
  {
   "cell_type": "code",
   "execution_count": 14,
   "metadata": {},
   "outputs": [],
   "source": [
    "from sklearn.model_selection import train_test_split\n",
    "\n",
    "# Categorizing the ratings\n",
    "def cat_y(overall_rating):\n",
    "    if overall_rating in [1, 2]:\n",
    "        return 'low'\n",
    "    elif overall_rating == 3:\n",
    "        return 'neutral'\n",
    "    elif overall_rating in [4, 5]:\n",
    "        return 'high'\n",
    "\n",
    "training_data['category'] = training_data['overall'].apply(cat_y)"
   ]
  },
  {
   "cell_type": "markdown",
   "metadata": {},
   "source": [
    " Feature with balance "
   ]
  },
  {
   "cell_type": "code",
   "execution_count": 7,
   "metadata": {},
   "outputs": [],
   "source": [
    "from nltk.sentiment import SentimentIntensityAnalyzer\n",
    "from sklearn.feature_extraction.text import TfidfVectorizer\n",
    "from scipy.sparse import hstack\n",
    "\n",
    "# Sentiment analysis\n",
    "analyzer = SentimentIntensityAnalyzer()\n",
    "balanced_training_data['sentiment_score'] = balanced_training_data['processed_reviewText'].apply(lambda x: analyzer.polarity_scores(x)['compound'])\n",
    "\n",
    "# Apply TF-IDF Vectorization\n",
    "tfidf_vectorizer = TfidfVectorizer(max_features=5000, stop_words='english')\n",
    "tfidf_features_balanced = tfidf_vectorizer.fit_transform(balanced_training_data['processed_reviewText'])\n",
    "\n",
    "# Combine TF-IDF features with sentiment scores\n",
    "combined_features_balanced = hstack([tfidf_features_balanced, balanced_training_data['sentiment_score'].values.reshape(-1, 1)])\n",
    "\n",
    "\n",
    "# Preprocess the balanced data\n",
    "balanced_training_data['processed_reviewText'] = balanced_training_data['reviewText'].apply(preprocess_text)\n",
    "balanced_training_data = balanced_training_data[balanced_training_data['processed_reviewText'] != \"\"]\n",
    "\n",
    "# Apply feature engineering to the balanced dataset\n",
    "balanced_training_data['sentiment_score'] = balanced_training_data['processed_reviewText'].apply(lambda x: analyzer.polarity_scores(x)['compound'])\n",
    "tfidf_features_balanced = tfidf_vectorizer.fit_transform(balanced_training_data['processed_reviewText'])\n",
    "combined_features_balanced = hstack([tfidf_features_balanced, balanced_training_data['sentiment_score'].values.reshape(-1, 1)])\n",
    "\n",
    "# Preparing the data for the model\n",
    "X_train, X_val, y_train, y_val = train_test_split(combined_features_balanced, balanced_training_data['category'], test_size=0.2, random_state=42)"
   ]
  },
  {
   "cell_type": "markdown",
   "metadata": {},
   "source": [
    " Feature without balance "
   ]
  },
  {
   "cell_type": "code",
   "execution_count": 15,
   "metadata": {},
   "outputs": [],
   "source": [
    "from nltk.sentiment import SentimentIntensityAnalyzer\n",
    "from sklearn.feature_extraction.text import TfidfVectorizer\n",
    "from scipy.sparse import hstack\n",
    "\n",
    "# Sentiment analysis\n",
    "analyzer = SentimentIntensityAnalyzer()\n",
    "training_data['sentiment_score'] = training_data['processed_reviewText'].apply(lambda x: analyzer.polarity_scores(x)['compound'])\n",
    "\n",
    "# Apply TF-IDF Vectorization\n",
    "tfidf_vectorizer = TfidfVectorizer(max_features=5000, stop_words='english')\n",
    "tfidf_features = tfidf_vectorizer.fit_transform(training_data['processed_reviewText'])\n",
    "\n",
    "# Combine TF-IDF features with sentiment scores\n",
    "combined_features = hstack([tfidf_features, training_data['sentiment_score'].values.reshape(-1, 1)])\n",
    "\n",
    "\n",
    "# Splitting the data into training and validation sets\n",
    "X_train, X_val, y_train, y_val = train_test_split(combined_features, training_data['category'], test_size=0.2, random_state=42)"
   ]
  },
  {
   "cell_type": "markdown",
   "metadata": {},
   "source": [
    "model train with balance "
   ]
  },
  {
   "cell_type": "code",
   "execution_count": 8,
   "metadata": {},
   "outputs": [],
   "source": [
    "from sklearn.svm import SVC\n",
    "from sklearn.model_selection import GridSearchCV\n",
    "\n",
    "# Define the parameter grid for GridSearch\n",
    "param_grid_svm = {\n",
    "    'C': [0.1, 1, 10],  # Regularization parameter\n",
    "    'gamma': ['scale', 'auto'],  # Kernel coefficient\n",
    "    'kernel': ['rbf', 'linear', 'poly']  # Specifies the kernel type\n",
    "}\n",
    "\n",
    "# Create a GridSearchCV object\n",
    "grid_search_svm = GridSearchCV(SVC(random_state=42), param_grid_svm, cv=5, scoring='accuracy')\n",
    "\n",
    "# Fit the model on the training data\n",
    "grid_search_svm.fit(X_train, y_train)\n",
    "\n",
    "# Best estimator\n",
    "svm_model = grid_search_svm.best_estimator_\n"
   ]
  },
  {
   "cell_type": "markdown",
   "metadata": {},
   "source": [
    "model train without balance "
   ]
  },
  {
   "cell_type": "code",
   "execution_count": 19,
   "metadata": {},
   "outputs": [],
   "source": [
    "from sklearn.svm import SVC\n",
    "from sklearn.model_selection import GridSearchCV\n",
    "\n",
    "# Define the parameter grid for GridSearch\n",
    "param_grid_svm = {\n",
    "    'C': [0.1, 1, 10],  # Regularization parameter\n",
    "    'gamma': ['scale', 'auto'],  # Kernel coefficient\n",
    "    'kernel': ['rbf', 'linear', 'poly'],  # Specifies the kernel type\n",
    "    'class_weight': ['balanced']  # Add class weights\n",
    "}\n",
    "\n",
    "# Create a GridSearchCV object with class_weight='balanced'\n",
    "grid_search_svm = GridSearchCV(SVC(random_state=42, class_weight='balanced'), param_grid_svm, cv=5, scoring='accuracy')\n",
    "\n",
    "# Fit the model on the training data\n",
    "grid_search_svm.fit(X_train, y_train)\n",
    "\n",
    "# Best estimator\n",
    "svm_model = grid_search_svm.best_estimator_\n",
    "\n"
   ]
  },
  {
   "cell_type": "markdown",
   "metadata": {},
   "source": [
    "Model Evaluation"
   ]
  },
  {
   "cell_type": "code",
   "execution_count": 20,
   "metadata": {},
   "outputs": [
    {
     "name": "stdout",
     "output_type": "stream",
     "text": [
      "              precision    recall  f1-score   support\n",
      "\n",
      "        high       0.88      0.97      0.93       503\n",
      "         low       0.72      0.42      0.53        55\n",
      "     neutral       0.25      0.07      0.11        41\n",
      "\n",
      "    accuracy                           0.86       599\n",
      "   macro avg       0.62      0.49      0.52       599\n",
      "weighted avg       0.82      0.86      0.83       599\n",
      "\n",
      "Accuracy: 0.8614357262103506\n",
      "Recall: 0.4885025398238801\n",
      "F1 Score: 0.5227397239307608\n"
     ]
    },
    {
     "data": {
      "image/png": "[encoded data removed]",
      "text/plain": [
       "<Figure size 800x600 with 2 Axes>"
      ]
     },
     "metadata": {},
     "output_type": "display_data"
    }
   ],
   "source": [
    "import matplotlib.pyplot as plt\n",
    "from sklearn.metrics import classification_report, accuracy_score, recall_score, f1_score, confusion_matrix\n",
    "import seaborn as sns\n",
    "\n",
    "# Predictions on validation set\n",
    "y_val_pred_svm = svm_model.predict(X_val)\n",
    "\n",
    "# Classification report\n",
    "print(classification_report(y_val, y_val_pred_svm))\n",
    "\n",
    "# Additional metrics\n",
    "accuracy = accuracy_score(y_val, y_val_pred_svm)\n",
    "recall = recall_score(y_val, y_val_pred_svm, average='macro')\n",
    "f1 = f1_score(y_val, y_val_pred_svm, average='macro')\n",
    "\n",
    "print(f\"Accuracy: {accuracy}\\nRecall: {recall}\\nF1 Score: {f1}\")\n",
    "\n",
    "# Confusion Matrix\n",
    "conf_matrix = confusion_matrix(y_val, y_val_pred_svm)\n",
    "plt.figure(figsize=(8, 6))\n",
    "sns.heatmap(conf_matrix, annot=True, fmt='g', cmap='Blues')\n",
    "plt.title('Confusion Matrix for SVM')\n",
    "plt.xlabel('Predicted Labels')\n",
    "plt.ylabel('True Labels')\n",
    "plt.show()\n"
   ]
  },
  {
   "cell_type": "markdown",
   "metadata": {},
   "source": [
    "model performance "
   ]
  },
  {
   "cell_type": "code",
   "execution_count": 10,
   "metadata": {},
   "outputs": [
    {
     "data": {
      "image/png": "[encoded data removed]",
      "text/plain": [
       "<Figure size 1000x600 with 1 Axes>"
      ]
     },
     "metadata": {},
     "output_type": "display_data"
    }
   ],
   "source": [
    "import numpy as np\n",
    "\n",
    "# Define ranges for C and gamma\n",
    "C_range = [0.1, 1, 10]\n",
    "gamma_range = ['scale', 'auto']\n",
    "kernel = 'rbf'  # You can change this to other kernels like 'linear' or 'poly'\n",
    "\n",
    "# Store the results\n",
    "results = []\n",
    "\n",
    "for C in C_range:\n",
    "    for gamma in gamma_range:\n",
    "        svm = SVC(kernel=kernel, C=C, gamma=gamma, random_state=42)\n",
    "        svm.fit(X_train, y_train)\n",
    "        y_val_pred = svm.predict(X_val)\n",
    "        accuracy = accuracy_score(y_val, y_val_pred)\n",
    "        results.append((C, gamma, accuracy))\n",
    "\n",
    "# Convert results to a DataFrame for easier plotting\n",
    "results_df = pd.DataFrame(results, columns=['C', 'gamma', 'accuracy'])\n",
    "\n",
    "# Plotting\n",
    "plt.figure(figsize=(10, 6))\n",
    "for gamma in gamma_range:\n",
    "    subset = results_df[results_df['gamma'] == gamma]\n",
    "    plt.plot(subset['C'], subset['accuracy'], label=f'gamma={gamma}')\n",
    "\n",
    "plt.title('SVM Accuracy for Different C and gamma')\n",
    "plt.xlabel('C (Regularization parameter)')\n",
    "plt.ylabel('Accuracy')\n",
    "plt.xscale('log')  # Because C values vary in orders of magnitude\n",
    "plt.legend()\n",
    "plt.show()\n"
   ]
  },
  {
   "cell_type": "markdown",
   "metadata": {},
   "source": [
    "test på lux"
   ]
  },
  {
   "cell_type": "code",
   "execution_count": 11,
   "metadata": {},
   "outputs": [
    {
     "name": "stdout",
     "output_type": "stream",
     "text": [
      "              precision    recall  f1-score   support\n",
      "\n",
      "        high       0.94      0.86      0.90       868\n",
      "         low       0.40      0.62      0.49        82\n",
      "     neutral       0.10      0.16      0.12        50\n",
      "\n",
      "    accuracy                           0.80      1000\n",
      "   macro avg       0.48      0.55      0.50      1000\n",
      "weighted avg       0.85      0.80      0.82      1000\n",
      "\n"
     ]
    }
   ],
   "source": [
    "# Load test dataset\n",
    "test_data = pd.read_json('/Users/patrickbendorffschwebel/Desktop/Anvendt-kode/anvendt-exam/mappe uden navn 2/Luxury_Beauty.json', lines=True, nrows=1000)\n",
    "\n",
    "# Preprocess the text data\n",
    "test_data['processed_reviewText'] = test_data['reviewText'].apply(preprocess_text)\n",
    "\n",
    "# Sentiment analysis\n",
    "analyzer = SentimentIntensityAnalyzer()\n",
    "test_data['sentiment_score'] = test_data['processed_reviewText'].apply(lambda x: analyzer.polarity_scores(x)['compound'])\n",
    "\n",
    "# Apply the same TF-IDF vectorizer to the test data\n",
    "tfidf_features_test = tfidf_vectorizer.transform(test_data['processed_reviewText'])\n",
    "\n",
    "# Combine TF-IDF features with sentiment scores\n",
    "combined_features_test = hstack([tfidf_features_test, test_data['sentiment_score'].values.reshape(-1, 1)])\n",
    "\n",
    "# Categorize the ratings in the test data\n",
    "test_data['category'] = test_data['overall'].apply(cat_y)\n",
    "\n",
    "# Predict with the trained SVM model\n",
    "# Ensure svm_model is your trained SVM model\n",
    "test_predictions_svm = svm_model.predict(combined_features_test)\n",
    "\n",
    "# Evaluate the model's performance\n",
    "print(classification_report(test_data['category'], test_predictions_svm))\n"
   ]
  },
  {
   "cell_type": "markdown",
   "metadata": {},
   "source": [
    "improve: \n",
    "\n",
    "Hyperparameter Tuning:\n",
    "C (Regularization Parameter): Adjusting the C parameter can help control the trade-off between smooth decision boundaries and classifying training points correctly. A low value encourages a smoother decision boundary, while a higher value aims to classify more training points correctly, potentially leading to overfitting.\n",
    "Kernel Choice: Different kernels (like linear, polynomial, RBF) can significantly impact performance. The choice depends on the nature of your data. For instance, non-linear kernels like RBF might perform better on complex datasets.\n",
    "Gamma (Kernel Coefficient for RBF, Polynomial, and Sigmoid): In the RBF kernel, gamma defines how far the influence of a single training example reaches. Low values mean ‘far’ and high values mean ‘close’. Adjusting gamma can help with the model's ability to handle the complexity of the feature space.\n",
    "Feature Engineering:\n",
    "Experiment with different text representation methods like word embeddings (Word2Vec, GloVe) which might capture semantic relationships better than TF-IDF.\n",
    "Add additional features that might be relevant to the prediction task, such as length of the review, readability scores, or specific sentiment markers.\n",
    "Normalize or scale features, especially if you're combining different types of data (like numerical and textual data).\n",
    "Data Preprocessing:\n",
    "Further clean and preprocess your text data. This might include more advanced natural language processing techniques like named entity recognition, part-of-speech tagging, or syntax parsing.\n",
    "Consider handling class imbalance more rigorously, possibly using techniques like SMOTE (Synthetic Minority Over-sampling Technique) or adjusting class weights in the SVM algorithm.\n",
    "Model Selection and Ensemble Methods:\n",
    "Sometimes a different model might be more suitable for your data. Consider trying other algorithms like Random Forest, Gradient Boosting Machines, or Neural Networks.\n",
    "Use ensemble methods. Bagging (Bootstrap Aggregating) or boosting techniques can sometimes improve the performance by combining multiple weak models into a more robust model.\n",
    "Cross-Validation and Grid Search:\n",
    "Use more extensive cross-validation schemes to evaluate your model performance, like K-Fold cross-validation.\n",
    "Employ grid search or randomized search for more extensive hyperparameter tuning.\n",
    "Domain-Specific Knowledge:\n",
    "Incorporate domain-specific knowledge into feature engineering. For instance, if the dataset is about product reviews, features like the mention of certain product attributes might be useful.\n",
    "Evaluating Different Performance Metrics:\n",
    "Depending on your problem, evaluate the model using different metrics like precision, recall, F1-score, ROC-AUC, etc., and choose the one that aligns best with your business objectives or use case.\n",
    "Remember, improving a model is an iterative process. It's important to experiment and evaluate the impact of different changes on your model's performance. Also, consider the trade-offs between model complexity, interpretability, and performance."
   ]
  }
 ],
 "metadata": {
  "kernelspec": {
   "display_name": "Python 3",
   "language": "python",
   "name": "python3"
  },
  "language_info": {
   "codemirror_mode": {
    "name": "ipython",
    "version": 3
   },
   "file_extension": ".py",
   "mimetype": "text/x-python",
   "name": "python",
   "nbconvert_exporter": "python",
   "pygments_lexer": "ipython3",
   "version": "3.10.13"
  }
 },
 "nbformat": 4,
 "nbformat_minor": 2
}
