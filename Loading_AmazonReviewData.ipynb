{
 "cells": [
  {
   "cell_type": "markdown",
   "metadata": {},
   "source": [
    "This notebook illustrates how to load data from Amazon Product Review data set into a Pandas DataFrame.  \n",
    "---\n",
    "Data set from:[https://datarepo.eng.ucsd.edu/mcauley_group/data/amazon_v2/categoryFilesSmall/AMAZON_FASHION_5.json.gz](https://datarepo.eng.ucsd.edu/mcauley_group/data/amazon_v2/categoryFilesSmall/AMAZON_FASHION_5.json.gz) \n",
    "\n",
    "The JSON data is loaded into a pandas DataFrame. This particular file contains the following columns:\n",
    "\n",
    "- overall: The overall rating.\n",
    "- verified: Whether the review is verified.\n",
    "- reviewTime: The time of the review.\n",
    "- reviewerID: The ID of the reviewer.\n",
    "- asin: The product ID.\n",
    "- style: The style of the product, specifically its size in this case.\n",
    "- reviewerName: The name of the reviewer.\n",
    "- reviewText: The text of the review.\n",
    "- summary: The summary of the review.\n",
    "- unixReviewTime: The time of the review in Unix time format. \n"
   ]
  },
  {
   "cell_type": "code",
   "execution_count": 1,
   "metadata": {},
   "outputs": [],
   "source": [
    "import tensorflow as tf\n",
    "\n",
    "import pandas as pd\n",
    "import requests\n",
    "import gzip\n",
    "import io\n",
    "import numpy as np\n",
    "from sklearn.model_selection import train_test_split"
   ]
  },
  {
   "cell_type": "code",
   "execution_count": 2,
   "metadata": {},
   "outputs": [],
   "source": [
    "def read_gzipped_json_from_url(url):\n",
    "    # Send a HTTP request to the URL\n",
    "    response = requests.get(url)\n",
    "    # Check if the request was successful\n",
    "    if response.status_code == 200:\n",
    "        # Use gzip to decompress the content\n",
    "        with gzip.GzipFile(fileobj=io.BytesIO(response.content)) as gz:\n",
    "            # Read the JSON lines file and convert to a DataFrame\n",
    "            df = pd.read_json(gz, lines=True)\n",
    "        return df\n",
    "    else:\n",
    "        print(f\"Failed to retrieve data: status code {response.status_code}\")\n",
    "        return None"
   ]
  },
  {
   "cell_type": "code",
   "execution_count": 3,
   "metadata": {},
   "outputs": [],
   "source": [
    "# URL to the gzipped JSON file\n",
    "url = 'https://datarepo.eng.ucsd.edu/mcauley_group/data/amazon_v2/categoryFilesSmall/AMAZON_FASHION_5.json.gz'\n",
    "#url = 'https://datarepo.eng.ucsd.edu/mcauley_group/data/amazon_v2/categoryFilesSmall/Luxury_Beauty_5.json.gz'\n",
    "df = read_gzipped_json_from_url(url).reset_index(drop=True)"
   ]
  },
  {
   "cell_type": "code",
   "execution_count": 4,
   "metadata": {},
   "outputs": [
    {
     "name": "stdout",
     "output_type": "stream",
     "text": [
      "   overall  verified  reviewTime     reviewerID        asin  \\\n",
      "0        5      True  09 4, 2015  ALJ66O1Y6SLHA  B000K2PJ4K   \n",
      "1        5      True  09 4, 2015  ALJ66O1Y6SLHA  B000K2PJ4K   \n",
      "2        5      True  09 4, 2015  ALJ66O1Y6SLHA  B000K2PJ4K   \n",
      "3        5      True  09 4, 2015  ALJ66O1Y6SLHA  B000K2PJ4K   \n",
      "4        5      True  09 4, 2015  ALJ66O1Y6SLHA  B000K2PJ4K   \n",
      "\n",
      "                                               style reviewerName  \\\n",
      "0   {'Size:': ' Big Boys', 'Color:': ' Blue/Orange'}     Tonya B.   \n",
      "1  {'Size:': ' Big Boys', 'Color:': ' Black (3746...     Tonya B.   \n",
      "2  {'Size:': ' Big Boys', 'Color:': ' Blue/Gray L...     Tonya B.   \n",
      "3  {'Size:': ' Big Boys', 'Color:': ' Blue (37867...     Tonya B.   \n",
      "4     {'Size:': ' Big Boys', 'Color:': ' Blue/Pink'}     Tonya B.   \n",
      "\n",
      "                 reviewText     summary  unixReviewTime  vote image  \n",
      "0  Great product and price!  Five Stars      1441324800   NaN   NaN  \n",
      "1  Great product and price!  Five Stars      1441324800   NaN   NaN  \n",
      "2  Great product and price!  Five Stars      1441324800   NaN   NaN  \n",
      "3  Great product and price!  Five Stars      1441324800   NaN   NaN  \n",
      "4  Great product and price!  Five Stars      1441324800   NaN   NaN  \n"
     ]
    }
   ],
   "source": [
    "# Display the first few rows of the DataFrame\n",
    "if df is not None:\n",
    "    print(df.head())"
   ]
  },
  {
   "cell_type": "code",
   "execution_count": 5,
   "metadata": {},
   "outputs": [],
   "source": [
    "# For illustration purposes only we will define a small subset of the data\n",
    "# Defining the target variable\n",
    "y = df['overall']\n",
    "# Defining the features\n",
    "df_small = df[['reviewerID','reviewText','summary']]\n",
    "\n",
    "# Split the data into training and testing sets\n",
    "df_Xtrain, df_Xtest, df_ytrain, df_ytest = train_test_split(df_small, y, test_size=0.1, random_state=42, stratify=y)\n",
    "df_Xtrain = df_Xtrain.reset_index(drop=True)\n",
    "df_Xtest = df_Xtest.reset_index(drop=True)\n",
    "df_ytrain = df_ytrain.reset_index(drop=True)\n",
    "df_ytest = df_ytest.reset_index(drop=True)"
   ]
  },
  {
   "cell_type": "code",
   "execution_count": 6,
   "metadata": {},
   "outputs": [
    {
     "name": "stdout",
     "output_type": "stream",
     "text": [
      "       reviewerID                                         reviewText  \\\n",
      "0  A2YZERYQTLB8NG  Best tennis shoes I've had all my life. Very c...   \n",
      "1   AG1CF6PFNBOQH  The shoes are amazing,very comfortable and fit...   \n",
      "2   A9KR8PT0Z47CL  They're ugly: the toe is rounded and the mater...   \n",
      "3  A13JGYKUU10QKH  I ordered a 1/2 size smaller than my usual siz...   \n",
      "4  A3A90ECS7ALV4T                   love the lightweight and the fit   \n",
      "\n",
      "                                             summary  \n",
      "0                                   Very Comfortable  \n",
      "1                                            Amazing  \n",
      "2  the Nike Womens Flex Trainer 6 is way better l...  \n",
      "3                                         Good shoes  \n",
      "4                                         Five Stars  \n"
     ]
    }
   ],
   "source": [
    "print(df_Xtrain.head())"
   ]
  },
  {
   "cell_type": "code",
   "execution_count": 7,
   "metadata": {},
   "outputs": [
    {
     "name": "stdout",
     "output_type": "stream",
     "text": [
      "0    5\n",
      "1    5\n",
      "2    3\n",
      "3    5\n",
      "4    5\n",
      "Name: overall, dtype: int64\n"
     ]
    }
   ],
   "source": [
    "print(df_ytrain.head())"
   ]
  },
  {
   "cell_type": "code",
   "execution_count": 8,
   "metadata": {},
   "outputs": [
    {
     "name": "stdout",
     "output_type": "stream",
     "text": [
      "First review = Best tennis shoes I've had all my life. Very comfortable out the box. I would buy 10 pairs of these shoes if had the money.\n",
      "First review has length = 123\n",
      " \n",
      "First review summary= Very Comfortable\n",
      "First review summary has length = 16\n",
      " \n",
      "First review overall rating = 5\n"
     ]
    }
   ],
   "source": [
    "print(f'First review = {df_Xtrain.loc[0, \"reviewText\"]}')\n",
    "print(f'First review has length = {len(df_Xtrain.loc[0, \"reviewText\"])}\\n ')\n",
    "print(f'First review summary= {df_Xtrain.loc[0, \"summary\"]}')\n",
    "print(f'First review summary has length = {len(df_Xtrain.loc[0, \"summary\"])}\\n ')\n",
    "\n",
    "print(f'First review overall rating = {df_ytrain.loc[0]}')"
   ]
  },
  {
   "cell_type": "code",
   "execution_count": 9,
   "metadata": {},
   "outputs": [
    {
     "name": "stdout",
     "output_type": "stream",
     "text": [
      "Sixth review = Super comfortable. I joined Cross Fit and this is the perfect shoe.\n",
      "Sixth review has length = 67\n",
      " \n",
      "Sixth review summary= Super comfortable. I joined Cross Fit and this is ...\n",
      "Sixth review summary has length = 53\n",
      " \n",
      "Sixth review overall rating = 4\n"
     ]
    }
   ],
   "source": [
    "print(f'Sixth review = {df_Xtrain.loc[6, \"reviewText\"]}')\n",
    "print(f'Sixth review has length = {len(df_Xtrain.loc[6, \"reviewText\"])}\\n ')\n",
    "print(f'Sixth review summary= {df_Xtrain.loc[6, \"summary\"]}')\n",
    "print(f'Sixth review summary has length = {len(df_Xtrain.loc[6, \"summary\"])}\\n ')\n",
    "\n",
    "print(f'Sixth review overall rating = {df_ytrain.loc[6]}')"
   ]
  },
  {
   "cell_type": "code",
   "execution_count": null,
   "metadata": {},
   "outputs": [],
   "source": [
    "test"
   ]
  }
 ],
 "metadata": {
  "kernelspec": {
   "display_name": "Python 3",
   "language": "python",
   "name": "python3"
  },
  "language_info": {
   "codemirror_mode": {
    "name": "ipython",
    "version": 3
   },
   "file_extension": ".py",
   "mimetype": "text/x-python",
   "name": "python",
   "nbconvert_exporter": "python",
   "pygments_lexer": "ipython3",
   "version": "3.10.13"
  }
 },
 "nbformat": 4,
 "nbformat_minor": 4
}
