{
 "cells": [
  {
   "cell_type": "code",
   "execution_count": 2,
   "metadata": {},
   "outputs": [],
   "source": [
    "import pandas as pd\n",
    "from sklearn.model_selection import train_test_split, GridSearchCV\n",
    "from sklearn.feature_extraction.text import TfidfVectorizer\n",
    "from sklearn.tree import DecisionTreeClassifier\n",
    "from sklearn.metrics import accuracy_score, classification_report\n",
    "from nltk.corpus import stopwords\n",
    "from nltk.tokenize import word_tokenize\n",
    "\n",
    "def preprocess_text(text):\n",
    "    stop_words = set(stopwords.words('english'))\n",
    "    if pd.isnull(text):\n",
    "        return ''\n",
    "    tokens = word_tokenize(text.lower())\n",
    "    filtered_tokens = [word for word in tokens if word.isalpha() and word not in stop_words]\n",
    "    return ' '.join(filtered_tokens)\n",
    "\n",
    "def load_data(category_url, chunk_size, total_samples):\n",
    "    chunks = pd.read_json(category_url, lines=True, chunksize=chunk_size)\n",
    "    data = pd.concat([chunk for chunk in chunks], ignore_index=True)\n",
    "    data = data.sample(min(total_samples, len(data)))\n",
    "    return data\n",
    "\n",
    "def preprocess_data(data):\n",
    "    data = data.dropna(subset=['reviewText'])\n",
    "    data['reviewText'] = data['reviewText'].apply(preprocess_text)\n",
    "    return data\n"
   ]
  },
  {
   "cell_type": "code",
   "execution_count": 3,
   "metadata": {},
   "outputs": [],
   "source": [
    "def train_decision_tree(X_train_tfidf, y_train, param_grid):\n",
    "    dt_model = DecisionTreeClassifier()\n",
    "    grid_search = GridSearchCV(estimator=dt_model, param_grid=param_grid, cv=5, scoring='accuracy')\n",
    "    grid_search.fit(X_train_tfidf, y_train)\n",
    "    best_params = grid_search.best_params_\n",
    "    best_model = DecisionTreeClassifier(**best_params)\n",
    "    best_model.fit(X_train_tfidf, y_train)\n",
    "    return best_model\n",
    "\n",
    "def evaluate_model(model, X, y, set_name):\n",
    "    y_pred = model.predict(X)\n",
    "    accuracy = accuracy_score(y, y_pred)\n",
    "    print(f'{set_name} Accuracy: {accuracy:.2f}')\n",
    "    print(f'Classification Report ({set_name}):')\n",
    "    print(classification_report(y, y_pred))\n",
    "    \n"
   ]
  },
  {
   "cell_type": "code",
   "execution_count": 7,
   "metadata": {},
   "outputs": [
    {
     "name": "stderr",
     "output_type": "stream",
     "text": [
      "/var/folders/55/kz51hsm17hx84shxkkwr1y7r0000gn/T/ipykernel_29692/2205971309.py:25: SettingWithCopyWarning: \n",
      "A value is trying to be set on a copy of a slice from a DataFrame.\n",
      "Try using .loc[row_indexer,col_indexer] = value instead\n",
      "\n",
      "See the caveats in the documentation: https://pandas.pydata.org/pandas-docs/stable/user_guide/indexing.html#returning-a-view-versus-a-copy\n",
      "  data['reviewText'] = data['reviewText'].apply(preprocess_text)\n",
      "/var/folders/55/kz51hsm17hx84shxkkwr1y7r0000gn/T/ipykernel_29692/2205971309.py:25: SettingWithCopyWarning: \n",
      "A value is trying to be set on a copy of a slice from a DataFrame.\n",
      "Try using .loc[row_indexer,col_indexer] = value instead\n",
      "\n",
      "See the caveats in the documentation: https://pandas.pydata.org/pandas-docs/stable/user_guide/indexing.html#returning-a-view-versus-a-copy\n",
      "  data['reviewText'] = data['reviewText'].apply(preprocess_text)\n"
     ]
    },
    {
     "name": "stdout",
     "output_type": "stream",
     "text": [
      "Best Parameters: {'ccp_alpha': 0.0, 'class_weight': None, 'criterion': 'gini', 'max_depth': 10, 'max_features': None, 'max_leaf_nodes': None, 'min_impurity_decrease': 0.0, 'min_samples_leaf': 1, 'min_samples_split': 5, 'min_weight_fraction_leaf': 0.0, 'random_state': None, 'splitter': 'best'}\n",
      "Validation Set Accuracy: 0.60\n",
      "Classification Report (Validation Set):\n",
      "              precision    recall  f1-score   support\n",
      "\n",
      "           1       0.43      0.28      0.34       450\n",
      "           2       0.29      0.02      0.03       251\n",
      "           3       0.13      0.01      0.01       402\n",
      "           4       0.22      0.02      0.03       571\n",
      "           5       0.63      0.97      0.76      2323\n",
      "\n",
      "    accuracy                           0.60      3997\n",
      "   macro avg       0.34      0.26      0.24      3997\n",
      "weighted avg       0.47      0.60      0.49      3997\n",
      "\n"
     ]
    },
    {
     "name": "stderr",
     "output_type": "stream",
     "text": [
      "/var/folders/55/kz51hsm17hx84shxkkwr1y7r0000gn/T/ipykernel_29692/2205971309.py:25: SettingWithCopyWarning: \n",
      "A value is trying to be set on a copy of a slice from a DataFrame.\n",
      "Try using .loc[row_indexer,col_indexer] = value instead\n",
      "\n",
      "See the caveats in the documentation: https://pandas.pydata.org/pandas-docs/stable/user_guide/indexing.html#returning-a-view-versus-a-copy\n",
      "  data['reviewText'] = data['reviewText'].apply(preprocess_text)\n"
     ]
    },
    {
     "name": "stdout",
     "output_type": "stream",
     "text": [
      "Test Set Accuracy: 0.67\n",
      "Classification Report (Test Set):\n",
      "              precision    recall  f1-score   support\n",
      "\n",
      "           1       0.42      0.14      0.21       884\n",
      "           2       0.16      0.01      0.01       510\n",
      "           3       0.20      0.01      0.01       747\n",
      "           4       0.20      0.01      0.03      1211\n",
      "           5       0.68      0.98      0.80      6642\n",
      "\n",
      "    accuracy                           0.67      9994\n",
      "   macro avg       0.33      0.23      0.21      9994\n",
      "weighted avg       0.54      0.67      0.56      9994\n",
      "\n"
     ]
    }
   ],
   "source": [
    "def main():\n",
    "    categories = {\n",
    "        'Luxury_Beauty': 'https://datarepo.eng.ucsd.edu/mcauley_group/data/amazon_v2/categoryFiles/Luxury_Beauty.json.gz',\n",
    "        'AMAZON_FASHION': 'https://datarepo.eng.ucsd.edu/mcauley_group/data/amazon_v2/categoryFiles/AMAZON_FASHION.json.gz',\n",
    "        'All_Beauty': 'https://datarepo.eng.ucsd.edu/mcauley_group/data/amazon_v2/categoryFiles/All_Beauty.json.gz'\n",
    "    }\n",
    "    total_samples = 10000\n",
    "    chunk_size = 10000\n",
    "    \n",
    "    param_grid = {\n",
    "        'max_depth': [None, 10, 20, 30],\n",
    "        'min_samples_split': [2, 5, 10],\n",
    "        'min_samples_leaf': [1, 2, 4]\n",
    "    }\n",
    "\n",
    "    # Load and preprocess training data for AMAZON_FASHION and All_Beauty\n",
    "    train_data_amazon_fashion = preprocess_data(load_data(categories['AMAZON_FASHION'], chunk_size, total_samples))\n",
    "    train_data_all_beauty = preprocess_data(load_data(categories['All_Beauty'], chunk_size, total_samples))\n",
    "    \n",
    "    # Combine training data\n",
    "    train_data = pd.concat([train_data_amazon_fashion, train_data_all_beauty], ignore_index=True)\n",
    "\n",
    "    # Separate features (reviews) and target variable (ratings)\n",
    "    X_train = train_data['reviewText']\n",
    "    y_train = train_data['overall']\n",
    "\n",
    "    # Convert text data to TF-IDF features\n",
    "    vectorizer = TfidfVectorizer(max_features=5000, stop_words='english')\n",
    "    X_train_tfidf = vectorizer.fit_transform(X_train)\n",
    "\n",
    "    # Split training data into training and validation sets\n",
    "    X_train_split, X_validation_split, y_train_split, y_validation_split = train_test_split(X_train_tfidf, y_train, test_size=0.2, random_state=42)\n",
    "\n",
    "    # Train Decision Tree model\n",
    "    best_model = train_decision_tree(X_train_split, y_train_split, param_grid)\n",
    "\n",
    "    # Print information about the best parameters\n",
    "    print(f'Best Parameters: {best_model.get_params()}')\n",
    "\n",
    "    # Evaluate the model on the validation set\n",
    "    evaluate_model(best_model, X_validation_split, y_validation_split, 'Validation Set')\n",
    "\n",
    "    # Load and preprocess testing data for Luxury_Beauty\n",
    "    test_data = preprocess_data(load_data(categories['Luxury_Beauty'], chunk_size, total_samples))\n",
    "\n",
    "    # Separate features and target variable for testing data\n",
    "    X_test = test_data['reviewText']\n",
    "    y_test = test_data['overall']\n",
    "    X_test_tfidf = vectorizer.transform(X_test)\n",
    "\n",
    "    # Evaluate the model on the test set\n",
    "    evaluate_model(best_model, X_test_tfidf, y_test, 'Test Set')\n",
    "\n",
    "if __name__ == \"__main__\":\n",
    "    main()\n"
   ]
  }
 ],
 "metadata": {
  "kernelspec": {
   "display_name": "amlfall23",
   "language": "python",
   "name": "python3"
  },
  "language_info": {
   "codemirror_mode": {
    "name": "ipython",
    "version": 3
   },
   "file_extension": ".py",
   "mimetype": "text/x-python",
   "name": "python",
   "nbconvert_exporter": "python",
   "pygments_lexer": "ipython3",
   "version": "3.10.13"
  }
 },
 "nbformat": 4,
 "nbformat_minor": 2
}
