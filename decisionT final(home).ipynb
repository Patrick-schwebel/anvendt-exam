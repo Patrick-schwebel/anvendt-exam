{
 "cells": [
  {
   "cell_type": "markdown",
   "metadata": {},
   "source": [
    "decision tree "
   ]
  },
  {
   "cell_type": "markdown",
   "metadata": {},
   "source": [
    "Data Loading"
   ]
  },
  {
   "cell_type": "code",
   "execution_count": 9,
   "metadata": {},
   "outputs": [],
   "source": [
    "import pandas as pd\n",
    "\n",
    "# Paths to your training data files\n",
    "amazon_fashion_path = '/Users/patrickbendorffschwebel/Desktop/Anvendt-kode/anvendt-exam/mappe uden navn 2/AMAZON_FASHION.json'\n",
    "all_beauty_path = '/Users/patrickbendorffschwebel/Desktop/Anvendt-kode/anvendt-exam/mappe uden navn 2/All_Beauty.json'\n",
    "clothing_shoes_jewelry_path = '/Users/patrickbendorffschwebel/Desktop/Anvendt-kode/anvendt-exam/mappe uden navn 2/Clothing_Shoes_and_Jewelry.json'\n",
    "\n",
    "\n",
    "# Number of rows to read from each file\n",
    "n_rows = 25000\n",
    "\n",
    "# Load a subset of each training dataset\n",
    "amazon_fashion = pd.read_json(amazon_fashion_path, lines=True, nrows=n_rows)\n",
    "all_beauty = pd.read_json(all_beauty_path, lines=True, nrows=n_rows)\n",
    "clothing_shoes_jewelry = pd.read_json(clothing_shoes_jewelry_path, lines=True, nrows=n_rows)\n",
    "\n",
    "# Concatenate the datasets\n",
    "training_data = pd.concat([amazon_fashion, all_beauty, clothing_shoes_jewelry])"
   ]
  },
  {
   "cell_type": "markdown",
   "metadata": {},
   "source": [
    "Text Preprocessing "
   ]
  },
  {
   "cell_type": "code",
   "execution_count": 10,
   "metadata": {},
   "outputs": [
    {
     "name": "stderr",
     "output_type": "stream",
     "text": [
      "[nltk_data] Downloading package punkt to\n",
      "[nltk_data]     /Users/patrickbendorffschwebel/nltk_data...\n",
      "[nltk_data]   Package punkt is already up-to-date!\n",
      "[nltk_data] Downloading package stopwords to\n",
      "[nltk_data]     /Users/patrickbendorffschwebel/nltk_data...\n",
      "[nltk_data]   Package stopwords is already up-to-date!\n",
      "[nltk_data] Downloading package wordnet to\n",
      "[nltk_data]     /Users/patrickbendorffschwebel/nltk_data...\n",
      "[nltk_data]   Package wordnet is already up-to-date!\n",
      "[nltk_data] Downloading package averaged_perceptron_tagger to\n",
      "[nltk_data]     /Users/patrickbendorffschwebel/nltk_data...\n",
      "[nltk_data]   Package averaged_perceptron_tagger is already up-to-\n",
      "[nltk_data]       date!\n"
     ]
    }
   ],
   "source": [
    "import nltk\n",
    "from nltk.corpus import stopwords, wordnet\n",
    "from nltk.stem import WordNetLemmatizer\n",
    "from nltk.tokenize import word_tokenize\n",
    "import re\n",
    "\n",
    "nltk.download('punkt')\n",
    "nltk.download('stopwords')\n",
    "nltk.download('wordnet')\n",
    "nltk.download('averaged_perceptron_tagger')\n",
    "\n",
    "stop_words = set(stopwords.words('english'))\n",
    "lemmatizer = WordNetLemmatizer()\n",
    "\n",
    "def get_wordnet_pos(word):\n",
    "    tag = nltk.pos_tag([word])[0][1][0].upper()\n",
    "    tag_dict = {\"J\": wordnet.ADJ, \"N\": wordnet.NOUN, \"V\": wordnet.VERB, \"R\": wordnet.ADV}\n",
    "    return tag_dict.get(tag, wordnet.NOUN)\n",
    "\n",
    "def preprocess_text(text):\n",
    "    if isinstance(text, str):\n",
    "        text = text.lower()\n",
    "        text = re.sub(r'[^a-zA-Z0-9\\s]', '', text)\n",
    "        tokens = word_tokenize(text)\n",
    "        lemmatized_text = ' '.join([lemmatizer.lemmatize(word, get_wordnet_pos(word)) for word in tokens if word not in stop_words])\n",
    "        return lemmatized_text\n",
    "    else:\n",
    "        return \"\"\n",
    "\n",
    "# Apply the preprocessing to your training data\n",
    "training_data['processed_reviewText'] = training_data['reviewText'].apply(preprocess_text)\n",
    "training_data = training_data[training_data['processed_reviewText'] != \"\"]"
   ]
  },
  {
   "cell_type": "markdown",
   "metadata": {},
   "source": [
    "Data Preparation "
   ]
  },
  {
   "cell_type": "code",
   "execution_count": 11,
   "metadata": {},
   "outputs": [],
   "source": [
    "from sklearn.model_selection import train_test_split\n",
    "\n",
    "# Categorizing the ratings\n",
    "def cat_y(overall_rating):\n",
    "    if overall_rating in [1, 2]:\n",
    "        return 'low'\n",
    "    elif overall_rating == 3:\n",
    "        return 'neutral'\n",
    "    elif overall_rating in [4, 5]:\n",
    "        return 'high'\n",
    "\n",
    "training_data['category'] = training_data['overall'].apply(cat_y)"
   ]
  },
  {
   "cell_type": "markdown",
   "metadata": {},
   "source": [
    "feature without balance "
   ]
  },
  {
   "cell_type": "code",
   "execution_count": 12,
   "metadata": {},
   "outputs": [],
   "source": [
    "from nltk.sentiment.vader import SentimentIntensityAnalyzer\n",
    "from sklearn.feature_extraction.text import TfidfVectorizer\n",
    "from scipy.sparse import hstack\n",
    "\n",
    "# Sentiment analysis using VADER on the original reviewText\n",
    "analyzer = SentimentIntensityAnalyzer()\n",
    "training_data['sentiment_score'] = training_data['reviewText'].apply(lambda x: analyzer.polarity_scores(x)['compound'])\n",
    "\n",
    "# Apply TF-IDF Vectorization\n",
    "tfidf_vectorizer = TfidfVectorizer(max_features=5000, stop_words='english') #try some settings\n",
    "tfidf_features = tfidf_vectorizer.fit_transform(training_data['processed_reviewText'])\n",
    "\n",
    "# Combine TF-IDF features with sentiment scores\n",
    "combined_features = hstack([tfidf_features, training_data['sentiment_score'].values.reshape(-1, 1)])\n",
    "\n",
    "\n",
    "# Splitting the data into training and validation sets\n",
    "X_train, X_val, y_train, y_val = train_test_split(combined_features, training_data['category'], test_size=0.2, random_state=42)"
   ]
  },
  {
   "cell_type": "markdown",
   "metadata": {},
   "source": [
    "Model Training with Hyperparameter Tuning without balance "
   ]
  },
  {
   "cell_type": "code",
   "execution_count": 13,
   "metadata": {},
   "outputs": [
    {
     "name": "stdout",
     "output_type": "stream",
     "text": [
      "Best Parameters found by Grid Search: {'class_weight': 'balanced', 'max_depth': 5, 'min_samples_leaf': 1, 'min_samples_split': 2}\n"
     ]
    }
   ],
   "source": [
    "from sklearn.tree import DecisionTreeClassifier\n",
    "from sklearn.model_selection import GridSearchCV\n",
    "\n",
    "# Define the parameter grid for GridSearch\n",
    "param_grid_decision_tree = {\n",
    "    'max_depth': [5, 10, 20],\n",
    "    'min_samples_split': [2, 5, 10],\n",
    "    'min_samples_leaf': [1, 2, 4],\n",
    "    'class_weight': ['balanced']  # Add class weights\n",
    "}\n",
    "\n",
    "# Creating GridSearchCV object\n",
    "grid_search = GridSearchCV(DecisionTreeClassifier(random_state=42), \n",
    "                           param_grid_decision_tree, cv=5, scoring='accuracy')\n",
    "\n",
    "# Fitting the model\n",
    "grid_search.fit(X_train, y_train)\n",
    "\n",
    "# Getting the best estimator\n",
    "decision_tree_model = grid_search.best_estimator_  # Use the best estimator\n",
    "\n",
    "# Printing the best parameters\n",
    "print(\"Best Parameters found by Grid Search:\", grid_search.best_params_)\n"
   ]
  },
  {
   "cell_type": "markdown",
   "metadata": {},
   "source": [
    "Model Evaluation"
   ]
  },
  {
   "cell_type": "code",
   "execution_count": 14,
   "metadata": {},
   "outputs": [
    {
     "name": "stdout",
     "output_type": "stream",
     "text": [
      "              precision    recall  f1-score   support\n",
      "\n",
      "        high       0.93      0.81      0.86     12219\n",
      "         low       0.39      0.69      0.49      1700\n",
      "     neutral       0.14      0.17      0.16      1046\n",
      "\n",
      "    accuracy                           0.75     14965\n",
      "   macro avg       0.49      0.56      0.51     14965\n",
      "weighted avg       0.81      0.75      0.77     14965\n",
      "\n",
      "Accuracy: 0.7506849315068493\n",
      "Recall: 0.5575432502163501\n",
      "F1 Score: 0.5051475966762167\n"
     ]
    },
    {
     "data": {
      "image/png": "[encoded data removed]",
      "text/plain": [
       "<Figure size 1000x600 with 1 Axes>"
      ]
     },
     "metadata": {},
     "output_type": "display_data"
    }
   ],
   "source": [
    "from sklearn.metrics import classification_report, accuracy_score, recall_score, f1_score\n",
    "\n",
    "# Use the best estimator to predict on validation data\n",
    "y_val_pred = decision_tree_model.predict(X_val)\n",
    "\n",
    "# Classification report\n",
    "print(classification_report(y_val, y_val_pred))\n",
    "\n",
    "# Additional metrics\n",
    "accuracy = accuracy_score(y_val, y_val_pred)\n",
    "recall = recall_score(y_val, y_val_pred, average='macro')\n",
    "f1 = f1_score(y_val, y_val_pred, average='macro')\n",
    "\n",
    "print(f\"Accuracy: {accuracy}\\nRecall: {recall}\\nF1 Score: {f1}\")\n",
    "\n",
    "\n",
    "\n",
    "import matplotlib.pyplot as plt\n",
    "import numpy as np\n",
    "\n",
    "# Define a range of hyperparameter values to test (e.g., max_depth)\n",
    "max_depths = range(1, 21)  # Adjust the range as needed\n",
    "\n",
    "train_accuracies, val_accuracies = [], []\n",
    "\n",
    "for depth in max_depths:\n",
    "    model = DecisionTreeClassifier(max_depth=depth, random_state=42)\n",
    "    model.fit(X_train, y_train)\n",
    "    \n",
    "    # Training predictions\n",
    "    train_preds = model.predict(X_train)\n",
    "    train_accuracy = accuracy_score(y_train, train_preds)\n",
    "    train_accuracies.append(train_accuracy)\n",
    "    \n",
    "    # Validation predictions\n",
    "    val_preds = model.predict(X_val)\n",
    "    val_accuracy = accuracy_score(y_val, val_preds)\n",
    "    val_accuracies.append(val_accuracy)\n",
    "\n",
    "# Plotting the accuracies\n",
    "plt.figure(figsize=(10, 6))\n",
    "plt.plot(max_depths, train_accuracies, label='Training Accuracy', marker='o')\n",
    "plt.plot(max_depths, val_accuracies, label='Validation Accuracy', marker='o')\n",
    "plt.title('Training and Validation Accuracy vs. Max Tree Depth')\n",
    "plt.xlabel('Max Tree Depth')\n",
    "plt.ylabel('Accuracy')\n",
    "plt.legend()\n",
    "plt.grid()\n",
    "plt.show()\n"
   ]
  },
  {
   "cell_type": "markdown",
   "metadata": {},
   "source": [
    "model performance "
   ]
  },
  {
   "cell_type": "code",
   "execution_count": 15,
   "metadata": {},
   "outputs": [
    {
     "name": "stdout",
     "output_type": "stream",
     "text": [
      "              precision    recall  f1-score   support\n",
      "\n",
      "        high       0.89      0.83      0.86     19770\n",
      "         low       0.43      0.57      0.49      3440\n",
      "     neutral       0.14      0.16      0.15      1790\n",
      "\n",
      "    accuracy                           0.74     25000\n",
      "   macro avg       0.48      0.52      0.50     25000\n",
      "weighted avg       0.77      0.74      0.76     25000\n",
      "\n"
     ]
    }
   ],
   "source": [
    "# Load test dataset\n",
    "test_data = pd.read_json('/Users/patrickbendorffschwebel/Desktop/Anvendt-kode/anvendt-exam/mappe uden navn 2/Luxury_Beauty.json', lines=True, nrows=25000)\n",
    "\n",
    "# Preprocess the text data\n",
    "test_data['processed_reviewText'] = test_data['reviewText'].apply(preprocess_text)\n",
    "\n",
    "# Sentiment analysis\n",
    "analyzer = SentimentIntensityAnalyzer()\n",
    "test_data['sentiment_score'] = test_data['processed_reviewText'].apply(lambda x: analyzer.polarity_scores(x)['compound'])\n",
    "\n",
    "# Apply the same TF-IDF vectorizer to the test data\n",
    "# Assuming tfidf_vectorizer is already fitted to the training data\n",
    "tfidf_features_test = tfidf_vectorizer.transform(test_data['processed_reviewText'])\n",
    "\n",
    "# Combine TF-IDF features with sentiment scores\n",
    "combined_features_test = hstack([tfidf_features_test, test_data['sentiment_score'].values.reshape(-1, 1)])\n",
    "\n",
    "# Categorize the ratings in the test data\n",
    "test_data['category'] = test_data['overall'].apply(cat_y)\n",
    "\n",
    "# Predict with the trained Decision Tree model\n",
    "# Ensure decision_tree_model is your trained Decision Tree model\n",
    "test_predictions = decision_tree_model.predict(combined_features_test)\n",
    "\n",
    "# Evaluate the model's performance (optional)\n",
    "print(classification_report(test_data['category'], test_predictions))\n"
   ]
  }
 ],
 "metadata": {
  "kernelspec": {
   "display_name": "Python 3",
   "language": "python",
   "name": "python3"
  },
  "language_info": {
   "codemirror_mode": {
    "name": "ipython",
    "version": 3
   },
   "file_extension": ".py",
   "mimetype": "text/x-python",
   "name": "python",
   "nbconvert_exporter": "python",
   "pygments_lexer": "ipython3",
   "version": "3.10.13"
  }
 },
 "nbformat": 4,
 "nbformat_minor": 2
}
