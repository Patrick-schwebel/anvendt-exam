{
 "cells": [
  {
   "cell_type": "code",
   "execution_count": null,
   "metadata": {},
   "outputs": [],
   "source": [
    "import pandas as pd\n",
    "import json\n",
    "from collections import Counter\n",
    "import re\n",
    "\n",
    "# Function to load the dataset\n",
    "def load_dataset(file_path):\n",
    "    with open(file_path, 'r') as file:\n",
    "        data = [json.loads(line) for line in file]\n",
    "    return pd.DataFrame(data)\n",
    "\n",
    "# Function to calculate basic statistics\n",
    "def calculate_basic_stats(df):\n",
    "    return {\n",
    "        \"Total Reviews\": len(df),\n",
    "        \"Average Rating\": df['overall'].mean()\n",
    "    }\n",
    "\n",
    "# Function to analyze review length\n",
    "def analyze_review_length(df):\n",
    "    df['review_length'] = df['reviewText'].str.len()\n",
    "    df['summary_length'] = df['summary'].str.len()\n",
    "    return {\n",
    "        \"Average Review Length\": df['review_length'].mean(),\n",
    "        \"Average Summary Length\": df['summary_length'].mean()\n",
    "    }\n",
    "\n",
    "# Function to find the most common words\n",
    "def get_most_common_words(text_series, num_words=10):\n",
    "    combined_text = ' '.join(text_series.dropna())\n",
    "    words = re.findall(r'\\b[a-z]+\\b', combined_text.lower())\n",
    "    return Counter(words).most_common(num_words)\n",
    "\n",
    "# Load the Clothing_Shoes_and_Jewelry_5.json file\n",
    "file_path_clothing = 'path_to_your_Clothing_Shoes_and_Jewelry_5_json_file'\n",
    "df_clothing = load_dataset(file_path_clothing)\n",
    "\n",
    "# Perform EDA\n",
    "basic_stats_clothing = calculate_basic_stats(df_clothing)\n",
    "review_length_stats_clothing = analyze_review_length(df_clothing)\n",
    "common_words_in_reviews_clothing = get_most_common_words(df_clothing['reviewText'])\n",
    "common_words_in_summaries_clothing = get_most_common_words(df_clothing['summary'])\n",
    "\n",
    "# Print the results\n",
    "print(\"Basic Statistics:\", basic_stats_clothing)\n",
    "print(\"Review Length Analysis:\", review_length_stats_clothing)\n",
    "print(\"Common Words in Reviews:\", common_words_in_reviews_clothing)\n",
    "print(\"Common Words in Summaries:\", common_words_in_summaries_clothing)\n"
   ]
  },
  {
   "cell_type": "code",
   "execution_count": null,
   "metadata": {},
   "outputs": [],
   "source": []
  },
  {
   "cell_type": "markdown",
   "metadata": {},
   "source": []
  },
  {
   "cell_type": "code",
   "execution_count": null,
   "metadata": {},
   "outputs": [],
   "source": []
  }
 ],
 "metadata": {
  "kernelspec": {
   "display_name": "Python 3",
   "language": "python",
   "name": "python3"
  },
  "language_info": {
   "name": "python",
   "version": "3.10.13"
  }
 },
 "nbformat": 4,
 "nbformat_minor": 2
}
